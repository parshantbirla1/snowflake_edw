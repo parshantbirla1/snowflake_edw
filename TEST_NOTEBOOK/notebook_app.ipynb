{
 "metadata": {
  "kernelspec": {
   "display_name": "Streamlit Notebook",
   "name": "streamlit"
  }
 },
 "nbformat_minor": 5,
 "nbformat": 4,
 "cells": [
  {
   "cell_type": "code",
   "id": "3775908f-ca36-4846-8f38-5adca39217f2",
   "metadata": {
    "language": "sql",
    "name": "cell1"
   },
   "source": "COPY INTO LANDING_TEST.BLUECHERRY.ZZOSHPRH\n                FROM (SELECT t.$1, t.$2, t.$3, t.$4, t.$5, t.$6, t.$7, t.$8, t.$9, t.$10,\n                        t.$11, t.$12, t.$13, t.$14, t.$15, t.$16, t.$17, t.$18, t.$19, t.$20,\n                        t.$21, t.$22, t.$23, t.$24, t.$25, t.$26, t.$27, t.$28, t.$29, t.$30,\n                        t.$31, t.$32, t.$33, t.$34, t.$35, t.$36, t.$37, t.$38, t.$39, t.$40,\n                        t.$41, t.$42, t.$43, t.$44, t.$45, t.$46, t.$47, t.$48, t.$49, t.$50,\n                        t.$51, t.$52, t.$53, t.$54, t.$55, t.$56, t.$57, t.$58, t.$59, t.$60,\n                        t.$61, t.$62, t.$63, t.$64, t.$65, t.$66, t.$67, t.$68, t.$69, t.$70,\n                        t.$71, t.$72, t.$73, t.$74, t.$75, t.$76, t.$77, t.$78, t.$79, t.$80, \n                        t.$81, t.$82, t.$83, t.$84, t.$85, t.$86, t.$87, t.$88, t.$89, t.$90, \n                        t.$91, t.$92, t.$93, t.$94, t.$95, t.$96, t.$97, t.$98, t.$99, t.$100, \n                        t.$101, t.$102, t.$103, t.$104, t.$105, t.$106, t.$107, t.$108, t.$109, t.$110,\n                        t.$111, t.$112, t.$113, t.$114, t.$115, t.$116, t.$117, t.$118, t.$119, t.$120,\n                        t.$121, t.$122, t.$123, t.$124, t.$125, t.$126, t.$127, t.$128, t.$129, t.$130,\n                        t.$131, t.$132, t.$133, t.$134, t.$135, t.$136, t.$137, t.$138, t.$139, t.$140,\n                        t.$141, t.$142, t.$143, t.$144, t.$145, t.$146, t.$147, t.$148, t.$149, t.$150,      \n                        t.$151, t.$152, t.$153, t.$154, t.$155, t.$156, t.$157, t.$158, t.$159, t.$160,      \n                        t.$161, t.$162, t.$163, t.$164, t.$165, t.$166, t.$167, t.$168, t.$169, t.$170,      \n                        t.$171, t.$172, t.$173, t.$174, t.$175, t.$176, t.$177, t.$178, t.$179, t.$180,      \n                        t.$181, t.$182, t.$183, t.$184, t.$185, t.$186, t.$187, t.$188, t.$189, t.$190,      \n                        t.$191, t.$192, t.$193, t.$194, t.$195, t.$196, t.$197, t.$198, t.$199, t.$200,      \n                        t.$201, t.$202, t.$203, t.$204, t.$205, t.$206, t.$207, t.$208, t.$209, t.$210,\n                        t.$211, t.$212, t.$213, t.$214, t.$215, t.$216, t.$217, t.$218, t.$219, t.$220,\n                        t.$221, t.$222, t.$223, t.$224, t.$225, t.$226, t.$227, t.$228, t.$229, t.$230,\n                        t.$231, t.$232, t.$233, t.$234, t.$235, t.$236, t.$237, t.$238, t.$239, t.$240,\n                        t.$241, t.$242, t.$243, t.$244, t.$245, t.$246, t.$247, t.$248, t.$249, t.$250,\n                        t.$251, t.$252, t.$253, t.$254, t.$255, t.$256, t.$257, \n                        METADATA$FILENAME AS METADATA_FILENAME, \n                        METADATA$FILE_ROW_NUMBER AS METADATA_FILE_ROW_NUMBER,\n                        METADATA$FILE_LAST_MODIFIED AS METADATA_FILE_LAST_MODIFIED, \n                        METADATA$START_SCAN_TIME AS METADATA_START_SCAN_TIME,\n                            CURRENT_TIMESTAMP AS ETL_ROW_CREATED_TS, NULL AS ETL_ROW_UPDATED_TS, \n                            'BLUECHERRY' AS ETL_SOURCE_SYSTEM_CD\n                        FROM @LANDING_TEST.BLUECHERRY.STAGE_S3_BLUECHERRY/\n                        (file_format => LANDING_TEST.BLUECHERRY.STAGE_CSV_FORMAT, PATTERN =>     'year.*/dbo.zzoshprh_20231101_856_810_set_20240718084249.*')T) \n                        ON_ERROR=CONTINUE;",
   "execution_count": null,
   "outputs": []
  }
 ]
}