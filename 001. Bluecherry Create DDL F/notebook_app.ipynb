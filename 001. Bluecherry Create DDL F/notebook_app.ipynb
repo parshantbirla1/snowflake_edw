{
 "metadata": {
  "kernelspec": {
   "display_name": "Streamlit Notebook",
   "name": "streamlit"
  }
 },
 "nbformat_minor": 5,
 "nbformat": 4,
 "cells": [
  {
   "cell_type": "code",
   "id": "8a0f2082-2a37-42ca-b3c4-60faeae1884d",
   "metadata": {
    "language": "sql",
    "name": "cell4"
   },
   "outputs": [],
   "source": "\n\n/*USE ROLE DATA_ENG_TEST_RW_RL;\nUSE WAREHOUSE DATA_ENGINEER_TEST_WH;\nUSE DATABASE LANDING_TEST;\nUSE SCHEMA BLUECHERRY;\n*/\n\nUSE ROLE DATA_ENG_DEV_RW_RL;\nUSE WAREHOUSE DATA_ENGINEER_DEV_WH;\nUSE DATABASE LANDING_DEV;\nUSE SCHEMA BLUECHERRY;\n\n\n----------------------------------------------------------------------------------------------------------------------------------\n--Create OMS file format for data load\n----------------------------------------------------------------------------------------------------------------------------------\n\n/*\nCREATE OR REPLACE FILE FORMAT STAGE_CSV_FORMAT\n  TYPE = CSV \n  FIELD_DELIMITER = ',' \n  SKIP_HEADER = 1 \n  ENCODING = 'ISO-8859-1'\n  FIELD_OPTIONALLY_ENCLOSED_BY = '\"'\n  NULL_IF = ('NULL', 'null') \n  VALIDATE_UTF8 = TRUE\n  EMPTY_FIELD_AS_NULL = true; \n\nCREATE OR REPLACE STAGE STAGE_S3_BLUECHERRY\n  STORAGE_INTEGRATION = AWS_DEV_S3_INT \n  URL = 's3://efi-efbi-dev/BlueCherry/' \n  FILE_FORMAT = STAGE_CSV_FORMAT;\n\nCREATE OR REPLACE FILE FORMAT STAGE_CSV_FORMAT_AUTO \n  TYPE = CSV \n  FIELD_DELIMITER = ',' \n  ENCODING = 'ISO-8859-1'\n  FIELD_OPTIONALLY_ENCLOSED_BY = '\"'\n  PARSE_HEADER = TRUE\n  NULL_IF = ('NULL', 'null') \n  EMPTY_FIELD_AS_NULL = true; \n\n*/\n\n\n----------------------------------------------------------------------------------------------------------------------------------\n--------------1. ZZEUPCNR---------------------------------------------------------------------------------------------------------\n----------------------------------------------------------------------------------------------------------------------------------\n\ncreate or replace TABLE BLUECHERRY.ZZEUPCNR2(\n\tBASE VARCHAR(16777216),\n\tCHK_DIGIT NUMBER(10,0),\n\tCOLOR_CODE VARCHAR(16777216),\n\tCONSUMABLE VARCHAR(16777216),\n\tDIMENSION VARCHAR(16777216),\n\tDIVISION VARCHAR(16777216),\n\tEAN VARCHAR(16777216),\n\tGPC VARCHAR(16777216),\n\tGREEN_DOT VARCHAR(16777216),\n\tGTIN_PREFIX VARCHAR(16777216),\n\tGTIN_SNO VARCHAR(16777216),\n\tGTIN14 VARCHAR(16777216),\n\tHEIGHT NUMBER(10,0),\n\tHEIGHT_UOM VARCHAR(16777216),\n\tINVOICEABLE VARCHAR(16777216),\n\tLAST_MOD TIMESTAMP_NTZ(9),\n\tLBL_CODE VARCHAR(16777216),\n\tLENGTH NUMBER(10,0),\n\tLENGTH_UOM VARCHAR(16777216),\n\tNOTES VARCHAR(16777216),\n\tORDERABLE VARCHAR(16777216),\n\tORIG_DATE TIMESTAMP_NTZ(9),\n\tORIGCNTY VARCHAR(16777216),\n\tPKEY NUMBER(10,0),\n\tPRODUCT_ID VARCHAR(16777216),\n\tPROFILE_CODE VARCHAR(16777216),\n\tRECYCLABLE VARCHAR(16777216),\n\tRETURN_PKG VARCHAR(16777216),\n\tROLLING_COLOR VARCHAR(16777216),\n\tSHIPPABLE VARCHAR(16777216),\n\tSIZE_DESC VARCHAR(16777216),\n\tSIZEBUCKET NUMBER(10,0),\n\tSOURCETYPE VARCHAR(16777216),\n\tSTYLE VARCHAR(16777216),\n\tTARGETCNTY VARCHAR(16777216),\n\tUDEX VARCHAR(16777216),\n\tUDFUPCC1 VARCHAR(16777216),\n\tUDFUPCC2 VARCHAR(16777216),\n\tUPC NUMBER(12,0),\n\tUPC_NUM NUMBER(11,0),\n\tUSER_ID VARCHAR(16777216),\n\tVARIABLE VARCHAR(16777216),\n\tVELOCITY_CODE VARCHAR(16777216),\n\tWIDTH NUMBER(10,0),\n\tWIDTH_UOM VARCHAR(16777216),\n\tMETADATA_FILENAME VARCHAR(2000),\n\tMETADATA_FILE_ROW_NUMBER NUMBER(38,0),\n\tMETADATA_FILE_LAST_MODIFIED TIMESTAMP_TZ(9),\n\tMETADATA_START_SCAN_TIME TIMESTAMP_TZ(9),\n\tETL_ROW_CREATED_TS TIMESTAMP_TZ(9),\n\tETL_ROW_UPDATED_TS TIMESTAMP_TZ(9),\n\tETL_SOURCE_SYSTEM_CD VARCHAR(256)\n);\n\n\n----------------------------------------------------------------------------------------------------------------------------------\n-------CREATE STREAMS-------------------------------------------------------------------------------------------------------------\n----------------------------------------------------------------------------------------------------------------------------------\n\nCREATE OR REPLACE STREAM BLUECHERRY.ZZEUPCNR_STREAM2 ON TABLE BLUECHERRY.ZZEUPCNR2;\n\n\n\n",
   "execution_count": null
  }
 ]
}